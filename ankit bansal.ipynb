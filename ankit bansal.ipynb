{
 "cells": [
  {
   "cell_type": "code",
   "execution_count": 1,
   "metadata": {},
   "outputs": [],
   "source": [
    "import pandas as pd\n",
    "from pandas_profiling import ProfileReport"
   ]
  },
  {
   "cell_type": "code",
   "execution_count": 2,
   "metadata": {},
   "outputs": [],
   "source": [
    " df=pd.read_excel('C:\\\\Users\\\\dell\\\\Desktop\\\\ankit.xlsx')"
   ]
  },
  {
   "cell_type": "code",
   "execution_count": 4,
   "metadata": {},
   "outputs": [],
   "source": [
    "df.drop(columns='SR.NO',inplace=True)"
   ]
  },
  {
   "cell_type": "code",
   "execution_count": 5,
   "metadata": {},
   "outputs": [
    {
     "data": {
      "text/html": [
       "<div>\n",
       "<style scoped>\n",
       "    .dataframe tbody tr th:only-of-type {\n",
       "        vertical-align: middle;\n",
       "    }\n",
       "\n",
       "    .dataframe tbody tr th {\n",
       "        vertical-align: top;\n",
       "    }\n",
       "\n",
       "    .dataframe thead th {\n",
       "        text-align: right;\n",
       "    }\n",
       "</style>\n",
       "<table border=\"1\" class=\"dataframe\">\n",
       "  <thead>\n",
       "    <tr style=\"text-align: right;\">\n",
       "      <th></th>\n",
       "      <th>Year</th>\n",
       "      <th>GDP</th>\n",
       "      <th>PD</th>\n",
       "      <th>POWER CONSU.</th>\n",
       "      <th>waste</th>\n",
       "    </tr>\n",
       "  </thead>\n",
       "  <tbody>\n",
       "    <tr>\n",
       "      <th>0</th>\n",
       "      <td>1960</td>\n",
       "      <td>428.058980</td>\n",
       "      <td>2532.000000</td>\n",
       "      <td>330.371000</td>\n",
       "      <td>0.557196</td>\n",
       "    </tr>\n",
       "    <tr>\n",
       "      <th>1</th>\n",
       "      <td>1961</td>\n",
       "      <td>449.151071</td>\n",
       "      <td>2540.895522</td>\n",
       "      <td>374.399091</td>\n",
       "      <td>0.571303</td>\n",
       "    </tr>\n",
       "    <tr>\n",
       "      <th>2</th>\n",
       "      <td>1962</td>\n",
       "      <td>472.085824</td>\n",
       "      <td>2612.238806</td>\n",
       "      <td>422.906233</td>\n",
       "      <td>0.585091</td>\n",
       "    </tr>\n",
       "    <tr>\n",
       "      <th>3</th>\n",
       "      <td>1963</td>\n",
       "      <td>511.205575</td>\n",
       "      <td>2679.104478</td>\n",
       "      <td>476.856033</td>\n",
       "      <td>0.598859</td>\n",
       "    </tr>\n",
       "    <tr>\n",
       "      <th>4</th>\n",
       "      <td>1964</td>\n",
       "      <td>485.533858</td>\n",
       "      <td>2748.656716</td>\n",
       "      <td>536.773646</td>\n",
       "      <td>0.612680</td>\n",
       "    </tr>\n",
       "    <tr>\n",
       "      <th>...</th>\n",
       "      <td>...</td>\n",
       "      <td>...</td>\n",
       "      <td>...</td>\n",
       "      <td>...</td>\n",
       "      <td>...</td>\n",
       "    </tr>\n",
       "    <tr>\n",
       "      <th>56</th>\n",
       "      <td>2016</td>\n",
       "      <td>56848.175392</td>\n",
       "      <td>7908.720733</td>\n",
       "      <td>8414.057218</td>\n",
       "      <td>1.393580</td>\n",
       "    </tr>\n",
       "    <tr>\n",
       "      <th>57</th>\n",
       "      <td>2017</td>\n",
       "      <td>61176.456361</td>\n",
       "      <td>7915.730606</td>\n",
       "      <td>8267.624428</td>\n",
       "      <td>1.372764</td>\n",
       "    </tr>\n",
       "    <tr>\n",
       "      <th>58</th>\n",
       "      <td>2018</td>\n",
       "      <td>66679.046490</td>\n",
       "      <td>7952.998590</td>\n",
       "      <td>8457.659209</td>\n",
       "      <td>1.364682</td>\n",
       "    </tr>\n",
       "    <tr>\n",
       "      <th>59</th>\n",
       "      <td>2019</td>\n",
       "      <td>65640.707948</td>\n",
       "      <td>8044.526093</td>\n",
       "      <td>8522.570772</td>\n",
       "      <td>1.268329</td>\n",
       "    </tr>\n",
       "    <tr>\n",
       "      <th>60</th>\n",
       "      <td>2020</td>\n",
       "      <td>59797.752180</td>\n",
       "      <td>8019.473907</td>\n",
       "      <td>8396.823148</td>\n",
       "      <td>1.034154</td>\n",
       "    </tr>\n",
       "  </tbody>\n",
       "</table>\n",
       "<p>61 rows × 5 columns</p>\n",
       "</div>"
      ],
      "text/plain": [
       "    Year          GDP            PD  POWER CONSU.     waste\n",
       "0   1960    428.058980  2532.000000    330.371000  0.557196\n",
       "1   1961    449.151071  2540.895522    374.399091  0.571303\n",
       "2   1962    472.085824  2612.238806    422.906233  0.585091\n",
       "3   1963    511.205575  2679.104478    476.856033  0.598859\n",
       "4   1964    485.533858  2748.656716    536.773646  0.612680\n",
       "..   ...           ...          ...           ...       ...\n",
       "56  2016  56848.175392  7908.720733   8414.057218  1.393580\n",
       "57  2017  61176.456361  7915.730606   8267.624428  1.372764\n",
       "58  2018  66679.046490  7952.998590   8457.659209  1.364682\n",
       "59  2019  65640.707948  8044.526093   8522.570772  1.268329\n",
       "60  2020  59797.752180  8019.473907   8396.823148  1.034154\n",
       "\n",
       "[61 rows x 5 columns]"
      ]
     },
     "execution_count": 5,
     "metadata": {},
     "output_type": "execute_result"
    }
   ],
   "source": [
    "df"
   ]
  },
  {
   "cell_type": "code",
   "execution_count": 70,
   "metadata": {},
   "outputs": [
    {
     "data": {
      "text/html": [
       "<div>\n",
       "<style scoped>\n",
       "    .dataframe tbody tr th:only-of-type {\n",
       "        vertical-align: middle;\n",
       "    }\n",
       "\n",
       "    .dataframe tbody tr th {\n",
       "        vertical-align: top;\n",
       "    }\n",
       "\n",
       "    .dataframe thead th {\n",
       "        text-align: right;\n",
       "    }\n",
       "</style>\n",
       "<table border=\"1\" class=\"dataframe\">\n",
       "  <thead>\n",
       "    <tr style=\"text-align: right;\">\n",
       "      <th></th>\n",
       "      <th>GDP</th>\n",
       "      <th>PD</th>\n",
       "      <th>POWER CONSU.</th>\n",
       "      <th>waste</th>\n",
       "    </tr>\n",
       "  </thead>\n",
       "  <tbody>\n",
       "    <tr>\n",
       "      <th>count</th>\n",
       "      <td>61.000000</td>\n",
       "      <td>61.000000</td>\n",
       "      <td>61.000000</td>\n",
       "      <td>61.000000</td>\n",
       "    </tr>\n",
       "    <tr>\n",
       "      <th>mean</th>\n",
       "      <td>20341.025544</td>\n",
       "      <td>4959.689404</td>\n",
       "      <td>4826.985434</td>\n",
       "      <td>0.984160</td>\n",
       "    </tr>\n",
       "    <tr>\n",
       "      <th>std</th>\n",
       "      <td>21001.808674</td>\n",
       "      <td>1791.992469</td>\n",
       "      <td>3131.149114</td>\n",
       "      <td>0.253040</td>\n",
       "    </tr>\n",
       "    <tr>\n",
       "      <th>min</th>\n",
       "      <td>428.058980</td>\n",
       "      <td>2532.000000</td>\n",
       "      <td>330.371000</td>\n",
       "      <td>0.557196</td>\n",
       "    </tr>\n",
       "    <tr>\n",
       "      <th>25%</th>\n",
       "      <td>2489.911575</td>\n",
       "      <td>3377.014925</td>\n",
       "      <td>1728.100415</td>\n",
       "      <td>0.775367</td>\n",
       "    </tr>\n",
       "    <tr>\n",
       "      <th>50%</th>\n",
       "      <td>11861.756159</td>\n",
       "      <td>4547.958209</td>\n",
       "      <td>4983.046353</td>\n",
       "      <td>0.988820</td>\n",
       "    </tr>\n",
       "    <tr>\n",
       "      <th>75%</th>\n",
       "      <td>29961.263277</td>\n",
       "      <td>6191.236575</td>\n",
       "      <td>8267.624428</td>\n",
       "      <td>1.176390</td>\n",
       "    </tr>\n",
       "    <tr>\n",
       "      <th>max</th>\n",
       "      <td>66679.046490</td>\n",
       "      <td>8044.526093</td>\n",
       "      <td>8844.687593</td>\n",
       "      <td>1.454207</td>\n",
       "    </tr>\n",
       "  </tbody>\n",
       "</table>\n",
       "</div>"
      ],
      "text/plain": [
       "               GDP            PD  POWER CONSU.      waste\n",
       "count     61.000000    61.000000     61.000000  61.000000\n",
       "mean   20341.025544  4959.689404   4826.985434   0.984160\n",
       "std    21001.808674  1791.992469   3131.149114   0.253040\n",
       "min      428.058980  2532.000000    330.371000   0.557196\n",
       "25%     2489.911575  3377.014925   1728.100415   0.775367\n",
       "50%    11861.756159  4547.958209   4983.046353   0.988820\n",
       "75%    29961.263277  6191.236575   8267.624428   1.176390\n",
       "max    66679.046490  8044.526093   8844.687593   1.454207"
      ]
     },
     "execution_count": 70,
     "metadata": {},
     "output_type": "execute_result"
    }
   ],
   "source": [
    "df.describe()"
   ]
  },
  {
   "cell_type": "code",
   "execution_count": 6,
   "metadata": {},
   "outputs": [],
   "source": [
    "import prophet"
   ]
  },
  {
   "cell_type": "code",
   "execution_count": 7,
   "metadata": {},
   "outputs": [],
   "source": [
    "import fbprophet\n",
    "from fbprophet import Prophet"
   ]
  },
  {
   "cell_type": "code",
   "execution_count": 8,
   "metadata": {},
   "outputs": [],
   "source": [
    "import pandas as pd\n",
    "import pandas_profiling\n",
    "import numpy as np \n",
    "import math as math\n",
    "import matplotlib.pyplot as plt\n",
    "import datetime as dt\n",
    "import seaborn as sns\n",
    "import plotly.express as px\n",
    "import plotly.graph_objects as go\n",
    "\n",
    "#from plotly.subplots import make_subplot\n",
    "%matplotlib inline "
   ]
  },
  {
   "cell_type": "code",
   "execution_count": 15,
   "metadata": {},
   "outputs": [],
   "source": [
    "from sklearn.preprocessing import MinMaxScaler"
   ]
  },
  {
   "cell_type": "code",
   "execution_count": 11,
   "metadata": {},
   "outputs": [],
   "source": [
    "df['Year'] = pd.to_datetime(df['Year'],format = '%Y')"
   ]
  },
  {
   "cell_type": "code",
   "execution_count": 12,
   "metadata": {},
   "outputs": [
    {
     "data": {
      "text/plain": [
       "count                      61\n",
       "unique                     61\n",
       "top       1999-01-01 00:00:00\n",
       "freq                        1\n",
       "first     1960-01-01 00:00:00\n",
       "last      2020-01-01 00:00:00\n",
       "Name: Year, dtype: object"
      ]
     },
     "execution_count": 12,
     "metadata": {},
     "output_type": "execute_result"
    }
   ],
   "source": [
    "df['Year'].describe()"
   ]
  },
  {
   "cell_type": "code",
   "execution_count": 24,
   "metadata": {},
   "outputs": [],
   "source": [
    "#Store the data in the form of dependent and independent variables separately\n",
    "x = df.iloc[:, 1:4].values \n",
    "y = df.iloc[:,4].values "
   ]
  },
  {
   "cell_type": "code",
   "execution_count": 26,
   "metadata": {},
   "outputs": [
    {
     "data": {
      "text/plain": [
       "array([[  428.05898003,  2532.        ,   330.37099982],\n",
       "       [  449.15107128,  2540.89552239,   374.39909103],\n",
       "       [  472.08582445,  2612.23880597,   422.90623309],\n",
       "       [  511.20557525,  2679.10447761,   476.85603338],\n",
       "       [  485.53385821,  2748.65671642,   536.7736462 ],\n",
       "       [  516.53530334,  2816.26865672,   603.83814868],\n",
       "       [  566.80767755,  2887.1641791 ,   678.57227773],\n",
       "       [  626.03352769,  2951.64179104,   758.51498631],\n",
       "       [  708.60606646,  3002.98507463,   845.99298354],\n",
       "       [  812.68279685,  3048.50746269,   941.13129237],\n",
       "       [  925.80391294,  3096.27910448,  1044.26330703],\n",
       "       [ 1071.41154036,  3153.58208955,  1154.81092338],\n",
       "       [ 1264.37510721,  3212.53731343,  1371.02769002],\n",
       "       [ 1685.45979632,  3273.13432836,  1599.17920657],\n",
       "       [ 2341.70551424,  3328.05970149,  1634.22728496],\n",
       "       [ 2489.91157518,  3377.01492537,  1728.10041545],\n",
       "       [ 2758.94038028,  3422.8358209 ,  1884.62041599],\n",
       "       [ 2846.33598833,  3470.59701493,  2073.71091902],\n",
       "       [ 3193.90565722,  3512.8358209 ,  2368.28687967],\n",
       "       [ 3900.53355311,  3557.46268657,  2529.47346339],\n",
       "       [ 4928.13911786,  3602.90298507,  2718.37179389],\n",
       "       [ 5596.58597723,  3780.35074627,  2778.70449516],\n",
       "       [ 6077.63424071,  3949.94925373,  2814.3191713 ],\n",
       "       [ 6633.23667366,  4001.58358209,  3045.80910319],\n",
       "       [ 7228.31758411,  4077.94179104,  3255.59316029],\n",
       "       [ 7001.76674771,  4083.51791045,  3444.13307665],\n",
       "       [ 6799.93036333,  4079.66119403,  3693.60493427],\n",
       "       [ 7539.02930212,  4141.4761194 ,  4088.59916916],\n",
       "       [ 8914.44122575,  4247.92238806,  4398.98977832],\n",
       "       [10394.53899624,  4374.47910448,  4639.18774466],\n",
       "       [11861.75615914,  4547.95820896,  4983.0463531 ],\n",
       "       [14502.37999386,  4679.22835821,  5104.80902738],\n",
       "       [16135.9136526 ,  4821.93731343,  5236.63926495],\n",
       "       [18290.02823723,  4945.47910448,  5499.97268725],\n",
       "       [21553.03089963,  5103.05671642,  5842.56202311],\n",
       "       [24914.41125568,  5260.45671642,  6069.21934592],\n",
       "       [26233.62889648,  5478.66268657,  6312.685523  ],\n",
       "       [26375.97195032,  5665.72835821,  6829.22562946],\n",
       "       [21829.29986977,  5861.5119403 ,  6965.75408566],\n",
       "       [21796.08443606,  5908.54179104,  7187.67137787],\n",
       "       [23852.3270286 ,  6011.77164179,  7575.43595439],\n",
       "       [21700.02004583,  6176.13731343,  7516.16960028],\n",
       "       [22159.68886327,  6186.59259259,  7756.31892144],\n",
       "       [23730.15244965,  5989.55749636,  8113.587306  ],\n",
       "       [27608.53737127,  6047.40783745,  8314.32532117],\n",
       "       [29961.26327746,  6191.23657475,  8678.16816784],\n",
       "       [33769.15416335,  6342.02449568,  8720.02208406],\n",
       "       [39432.93834938,  6602.30071942,  8706.57906694],\n",
       "       [40007.46926121,  6913.42285714,  8401.0483953 ],\n",
       "       [38927.20688177,  7125.10428571,  8114.36744886],\n",
       "       [47236.96023454,  7231.81196581,  8679.99335005],\n",
       "       [53890.42872705,  7363.19318182,  8651.75527539],\n",
       "       [55546.48853869,  7524.69830028,  8673.9852162 ],\n",
       "       [56967.42579404,  7636.72135785,  8680.60636076],\n",
       "       [57562.53079377,  7714.70239774,  8844.68759301],\n",
       "       [55646.61874695,  7806.77291961,  8694.37269755],\n",
       "       [56848.17539184,  7908.72073343,  8414.05721809],\n",
       "       [61176.45636116,  7915.73060649,  8267.62442819],\n",
       "       [66679.04648998,  7952.99858956,  8457.65920936],\n",
       "       [65640.7079485 ,  8044.52609309,  8522.57077246],\n",
       "       [59797.75218012,  8019.47390691,  8396.82314797]])"
      ]
     },
     "execution_count": 26,
     "metadata": {},
     "output_type": "execute_result"
    }
   ],
   "source": [
    "x"
   ]
  },
  {
   "cell_type": "code",
   "execution_count": 27,
   "metadata": {},
   "outputs": [
    {
     "data": {
      "text/plain": [
       "array([0.55719596, 0.57130256, 0.58509116, 0.59885939, 0.61267969,\n",
       "       0.62676143, 0.64106165, 0.65541101, 0.67014072, 0.68530566,\n",
       "       0.70080034, 0.716795  , 0.73221267, 0.74711207, 0.7615324 ,\n",
       "       0.77536695, 0.78872235, 0.80118904, 0.81187812, 0.82558638,\n",
       "       0.83594646, 0.8543044 , 0.87328914, 0.89228058, 0.90897118,\n",
       "       0.92522769, 0.93908891, 0.95289857, 0.96830696, 0.97957882,\n",
       "       0.98882007, 0.99757135, 1.00244859, 1.01820723, 1.03451444,\n",
       "       1.05165127, 1.07157557, 1.09232383, 1.12039213, 1.16395594,\n",
       "       1.15559349, 1.21797617, 1.15183371, 1.14906438, 1.14952874,\n",
       "       1.17639006, 1.18610931, 1.22059042, 1.23366635, 1.22586677,\n",
       "       1.28369983, 1.33077068, 1.3683927 , 1.45420715, 1.37383532,\n",
       "       1.38635903, 1.39358046, 1.3727642 , 1.36468206, 1.26832866,\n",
       "       1.03415399])"
      ]
     },
     "execution_count": 27,
     "metadata": {},
     "output_type": "execute_result"
    }
   ],
   "source": [
    "y"
   ]
  },
  {
   "cell_type": "markdown",
   "metadata": {},
   "source": [
    "# train test 70:30"
   ]
  },
  {
   "cell_type": "code",
   "execution_count": 23,
   "metadata": {},
   "outputs": [],
   "source": [
    "from sklearn.model_selection import train_test_split"
   ]
  },
  {
   "cell_type": "code",
   "execution_count": 56,
   "metadata": {},
   "outputs": [],
   "source": [
    "x_train, x_test, y_train, y_test = train_test_split(x, y, test_size=0.3,random_state=42)"
   ]
  },
  {
   "cell_type": "code",
   "execution_count": 57,
   "metadata": {},
   "outputs": [
    {
     "data": {
      "text/plain": [
       "array([0.55719596, 0.62676143, 1.18610931, 0.99757135, 0.74711207,\n",
       "       1.38635903, 1.03451444, 1.22586677, 0.73221267, 1.15559349,\n",
       "       1.01820723, 1.26832866, 0.78872235, 0.59885939, 1.45420715,\n",
       "       0.80118904, 0.67014072, 0.64106165, 1.21797617])"
      ]
     },
     "execution_count": 57,
     "metadata": {},
     "output_type": "execute_result"
    }
   ],
   "source": [
    "y_test"
   ]
  },
  {
   "cell_type": "code",
   "execution_count": 58,
   "metadata": {},
   "outputs": [],
   "source": [
    "from sklearn.ensemble import RandomForestRegressor "
   ]
  },
  {
   "cell_type": "code",
   "execution_count": 59,
   "metadata": {},
   "outputs": [],
   "source": [
    "#Import the Random Forest Regressor \n",
    "from sklearn.ensemble import RandomForestRegressor"
   ]
  },
  {
   "cell_type": "code",
   "execution_count": 60,
   "metadata": {},
   "outputs": [],
   "source": [
    "#Create a Random Forest regressor object from Random Forest Regressor class\n",
    "RFReg = RandomForestRegressor(n_estimators =8, random_state = 0)"
   ]
  },
  {
   "cell_type": "code",
   "execution_count": 61,
   "metadata": {},
   "outputs": [
    {
     "data": {
      "text/plain": [
       "RandomForestRegressor(n_estimators=8, random_state=0)"
      ]
     },
     "execution_count": 61,
     "metadata": {},
     "output_type": "execute_result"
    }
   ],
   "source": [
    "#Fit the random forest regressor with training data represented by X_train and y_train\n",
    "RFReg.fit(x_train, y_train)"
   ]
  },
  {
   "cell_type": "code",
   "execution_count": 62,
   "metadata": {},
   "outputs": [],
   "source": [
    "#Predicted waste from test dataset w.r.t Random Forest Regression\n",
    "y_predict_rfr = RFReg.predict((x_test))\n",
    "\n",
    "#Model Evaluation using R-Square for Random Forest Regression\n",
    "from sklearn import metrics\n",
    "r_square = metrics.r2_score(y_test, y_predict_rfr)"
   ]
  },
  {
   "cell_type": "code",
   "execution_count": 63,
   "metadata": {},
   "outputs": [
    {
     "name": "stdout",
     "output_type": "stream",
     "text": [
      "R-Square Error associated with Random Forest Regression is: 0.9770476588690867\n"
     ]
    }
   ],
   "source": [
    "print('R-Square Error associated with Random Forest Regression is:', r_square)"
   ]
  },
  {
   "cell_type": "code",
   "execution_count": 64,
   "metadata": {},
   "outputs": [],
   "source": [
    "from sklearn.metrics import mean_squared_error"
   ]
  },
  {
   "cell_type": "code",
   "execution_count": 65,
   "metadata": {},
   "outputs": [],
   "source": [
    "mse=mean_squared_error(y_test, y_predict_rfr)"
   ]
  },
  {
   "cell_type": "code",
   "execution_count": 66,
   "metadata": {},
   "outputs": [
    {
     "data": {
      "text/plain": [
       "0.0018100580998245824"
      ]
     },
     "execution_count": 66,
     "metadata": {},
     "output_type": "execute_result"
    }
   ],
   "source": [
    "mse"
   ]
  },
  {
   "cell_type": "code",
   "execution_count": 69,
   "metadata": {},
   "outputs": [
    {
     "data": {
      "image/png": "[encoded data removed]",
      "text/plain": [
       "<Figure size 432x288 with 1 Axes>"
      ]
     },
     "metadata": {
      "needs_background": "light"
     },
     "output_type": "display_data"
    }
   ],
   "source": [
    "import matplotlib.pyplot as plt\n",
    "plt.scatter(y_test, y_predict_rfr)\n",
    "plt.xlabel(\"y_test\")\n",
    "plt.ylabel(\"y_predict_rfr\")\n",
    "plt.grid()\n",
    "plt.show()"
   ]
  },
  {
   "cell_type": "code",
   "execution_count": 55,
   "metadata": {},
   "outputs": [
    {
     "ename": "IndexError",
     "evalue": "only integers, slices (`:`), ellipsis (`...`), numpy.newaxis (`None`) and integer or boolean arrays are valid indices",
     "output_type": "error",
     "traceback": [
      "\u001b[1;31m---------------------------------------------------------------------------\u001b[0m",
      "\u001b[1;31mIndexError\u001b[0m                                Traceback (most recent call last)",
      "\u001b[1;32m<ipython-input-55-4983b32250c4>\u001b[0m in \u001b[0;36m<module>\u001b[1;34m\u001b[0m\n\u001b[0;32m     11\u001b[0m \u001b[1;33m\u001b[0m\u001b[0m\n\u001b[0;32m     12\u001b[0m \u001b[1;31m# Scatter plot for original data\u001b[0m\u001b[1;33m\u001b[0m\u001b[1;33m\u001b[0m\u001b[1;33m\u001b[0m\u001b[0m\n\u001b[1;32m---> 13\u001b[1;33m \u001b[0mplt\u001b[0m\u001b[1;33m.\u001b[0m\u001b[0mscatter\u001b[0m\u001b[1;33m(\u001b[0m\u001b[0mx\u001b[0m\u001b[1;33m[\u001b[0m\u001b[1;34m'GDP'\u001b[0m\u001b[1;33m]\u001b[0m\u001b[1;33m,\u001b[0m \u001b[0my\u001b[0m\u001b[1;33m,\u001b[0m \u001b[0mcolor\u001b[0m \u001b[1;33m=\u001b[0m \u001b[1;34m'blue'\u001b[0m\u001b[1;33m)\u001b[0m\u001b[1;33m\u001b[0m\u001b[1;33m\u001b[0m\u001b[0m\n\u001b[0m\u001b[0;32m     14\u001b[0m \u001b[1;33m\u001b[0m\u001b[0m\n\u001b[0;32m     15\u001b[0m '''# plot predicted data\n",
      "\u001b[1;31mIndexError\u001b[0m: only integers, slices (`:`), ellipsis (`...`), numpy.newaxis (`None`) and integer or boolean arrays are valid indices"
     ]
    }
   ],
   "source": [
    "# Visualising the Random Forest Regression results\n",
    " \n",
    "# arrange for creating a range of values\n",
    "# from min value of x to max\n",
    "# value of x with a difference of 0.01\n",
    "# between two consecutive values\n",
    "#X_grid = np.arrange(min(x), max(x), 0.01)\n",
    "# reshape for reshaping the data into a len(X_grid)*1 array,\n",
    "# i.e. to make a column out of the X_grid value                 \n",
    "#X_grid = X_grid.reshape((len(X_grid), 1))\n",
    " \n",
    "# Scatter plot for original data\n",
    "plt.scatter(x['GDP'], y, color = 'blue') \n",
    " \n",
    "'''# plot predicted data\n",
    "plt.plot(X_grid, regressor.predict(X_grid),\n",
    "         color = 'green')\n",
    "plt.title('Random Forest Regression')\n",
    "plt.xlabel('')\n",
    "plt.ylabel('Salary')\n",
    "plt.show()'''"
   ]
  },
  {
   "cell_type": "code",
   "execution_count": null,
   "metadata": {},
   "outputs": [],
   "source": []
  }
 ],
 "metadata": {
  "kernelspec": {
   "display_name": "Python 3",
   "language": "python",
   "name": "python3"
  },
  "language_info": {
   "codemirror_mode": {
    "name": "ipython",
    "version": 3
   },
   "file_extension": ".py",
   "mimetype": "text/x-python",
   "name": "python",
   "nbconvert_exporter": "python",
   "pygments_lexer": "ipython3",
   "version": "3.8.3"
  }
 },
 "nbformat": 4,
 "nbformat_minor": 4
}
